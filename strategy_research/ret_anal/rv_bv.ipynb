{
 "cells": [
  {
   "cell_type": "code",
   "execution_count": null,
   "metadata": {},
   "outputs": [],
   "source": [
    "import pandas as pd\n",
    "import numpy as np\n",
    "\n",
    "data = pd.read_hdf(\"/Volumes/crypto_data/price_data/binance/1m/BTCUSDT_PERPETUAL.h5\")\n",
    "\n",
    "# Calculate the squared log returns\n",
    "data['log_returns'] = np.log(data['close'] / data['close'].shift(1))\n",
    "data['squared_log_returns'] = data['log_returns'] ** 2\n",
    "\n",
    "# Calculate RV as the sum of squared log returns over the lookback period\n",
    "data['rv_sum'] = data['squared_log_returns'].rolling(window=60*24*7).sum()\n",
    "\n",
    "data['rv'] = np.sqrt(data['rv_sum'])\n",
    "\n",
    "data['rv_percent'] = data['rv'].rolling(window=60*24*7).apply(lambda x: pd.Series(x).rank(pct=True).iloc[-1], raw=True)\n",
    "\n",
    "print(data[['close', 'rv', 'rv_percent']])\n",
    "\n",
    "import matplotlib.pyplot as plt\n",
    "fig, ax1 = plt.subplots(figsize=(15, 5))\n",
    "\n",
    "ax1.plot(data.index, data['close'], color='blue', label='Price')\n",
    "\n",
    "        \n",
    "ax2 = ax1.twinx()\n",
    "ax2.plot(data.index, data['rv'], color='green', alpha = 0.3 ,label='volume')"
   ]
  }
 ],
 "metadata": {
  "language_info": {
   "name": "python"
  }
 },
 "nbformat": 4,
 "nbformat_minor": 2
}
