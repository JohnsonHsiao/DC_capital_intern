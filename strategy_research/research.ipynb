{
 "cells": [
  {
   "cell_type": "code",
   "execution_count": 530,
   "metadata": {},
   "outputs": [],
   "source": [
    "import pandas as pd\n",
    "_data = pd.read_hdf('/Volumes/crypto_data/price_data/binance/1m/BTCUSDT_PERPETUAL.h5')\n"
   ]
  },
  {
   "cell_type": "code",
   "execution_count": 531,
   "metadata": {},
   "outputs": [],
   "source": [
    "_data['day'] = _data.index.weekday + 1\n",
    "_data['hour'] = _data.index.hour \n",
    "\n",
    "_data['1hr_return'] = _data['close'] / _data['close'].shift(60) - 1\n",
    "_data['2hr_return'] = _data['close'] / _data['close'].shift(120) - 1\n",
    "_data['4hr_return'] = _data['close'] / _data['close'].shift(240) - 1\n",
    "_data['6hr_return'] = _data['close'] / _data['close'].shift(360) - 1\n",
    "_data['8hr_return'] = _data['close'] / _data['close'].shift(480) - 1\n",
    "_data['12hr_return'] = _data['close'] / _data['close'].shift(720) - 1\n",
    "_data['18hr_return'] = _data['close'] / _data['close'].shift(1080) - 1\n",
    "_data['24hr_return'] = _data['close'] / _data['close'].shift(1440) - 1"
   ]
  },
  {
   "cell_type": "code",
   "execution_count": 702,
   "metadata": {},
   "outputs": [],
   "source": [
    "import matplotlib.pyplot as plt\n",
    "\n",
    "def sunday_last_nhour(data, n, k):\n",
    "    df = data[data['day'] == 7].iloc[:-1]\n",
    "    sunday_last_nhour = df[df.index.time == pd.to_datetime(f'{23-k}:59:00').time()].dropna().reset_index()\n",
    "    return sunday_last_nhour[f'{n}hr_return']\n",
    "    \n",
    "def monday_first_nhour(data, n):\n",
    "    df = data[data['day'] == 1]\n",
    "    if n > 10:\n",
    "        time = n-1\n",
    "    else:\n",
    "        time = f'0{n-1}'\n",
    "    monday_first_nhour = df[df.index.time == pd.to_datetime(f'{time}:59:00').time()].dropna().reset_index()\n",
    "    return monday_first_nhour[f'{n}hr_return']\n",
    "\n",
    "def friday_last_nhour(data, k):\n",
    "    df = data[data['day'] == 5]\n",
    "    friday_last_nhour = df[df.index.time == pd.to_datetime(f'{23-k}:59:00').time()].dropna().reset_index()\n",
    "    return friday_last_nhour[f'4hr_return']\n",
    "\n",
    "def saturday_return(data, n):\n",
    "    df = data[data['day'] == 6]\n",
    "    saturday_return = df[df.index.time == pd.to_datetime(f'{n-1}:59:00').time()].dropna().reset_index()\n",
    "    return saturday_return[f'{n}hr_return']\n",
    "\n",
    "def corr_gen_from_previous(data, k):   \n",
    "    df = pd.DataFrame()\n",
    "    for i in [2]:\n",
    "        df['sunday'] = sunday_last_nhour(data, i, k)\n",
    "        for j in [2,4,8,12]:\n",
    "            df['monday'] = monday_first_nhour(data, j)\n",
    "            print(f'週日{24-k}:00前{i}小時rtn，和星期一前 {j} 小時rtn的相關係數',df['sunday'].corr(df['monday']))\n",
    "        print('-------------------------------------------------------------------------------------------------------')"
   ]
  },
  {
   "cell_type": "code",
   "execution_count": 709,
   "metadata": {},
   "outputs": [
    {
     "name": "stdout",
     "output_type": "stream",
     "text": [
      "0 0.24882961806988257\n",
      "1 0.2037380769270333\n",
      "2 0.2720413474044729\n",
      "3 0.08772091360910096\n",
      "4 -0.014589611288247784\n",
      "5 0.1392664912195386\n",
      "6 0.16563457040997281\n",
      "7 0.23198639976466912\n",
      "8 0.34579732402870866\n",
      "9 0.05572267180924448\n",
      "10 0.03351144866403115\n",
      "11 -0.039438915071769776\n",
      "12 -0.10508627289339802\n",
      "13 0.08276477146234859\n",
      "14 0.08713617874600184\n",
      "15 0.0032038041838445127\n",
      "16 -0.03892209910672631\n",
      "17 -0.0470773705572912\n",
      "18 -0.0654984669319105\n",
      "19 -0.07609502090610715\n"
     ]
    }
   ],
   "source": [
    "data = _data[(_data.index.month >= 1) & (_data.index.year >= 2023)]\n",
    "\n",
    "peek = pd.DataFrame()\n",
    "for i in range(20):\n",
    "    peek['friday'] = friday_last_nhour(data, i)\n",
    "    peek['saturday'] = saturday_return(data, 4)\n",
    "    print(i ,peek['friday'].corr(peek['saturday']))"
   ]
  },
  {
   "cell_type": "code",
   "execution_count": 707,
   "metadata": {},
   "outputs": [
    {
     "ename": "TypeError",
     "evalue": "'list' object is not an iterator",
     "output_type": "error",
     "traceback": [
      "\u001b[0;31m---------------------------------------------------------------------------\u001b[0m",
      "\u001b[0;31mTypeError\u001b[0m                                 Traceback (most recent call last)",
      "\u001b[1;32m/Users/johnsonhsiao/DC_capital_intern/strategy_research/research.ipynb 儲存格 5\u001b[0m line \u001b[0;36m1\n\u001b[0;32m----> <a href='vscode-notebook-cell:/Users/johnsonhsiao/DC_capital_intern/strategy_research/research.ipynb#X51sZmlsZQ%3D%3D?line=0'>1</a>\u001b[0m \u001b[39mnext\u001b[39;49m(\u001b[39mlist\u001b[39;49m(_data))\n",
      "\u001b[0;31mTypeError\u001b[0m: 'list' object is not an iterator"
     ]
    }
   ],
   "source": [
    "next(list(_data))"
   ]
  },
  {
   "cell_type": "code",
   "execution_count": 695,
   "metadata": {},
   "outputs": [
    {
     "name": "stdout",
     "output_type": "stream",
     "text": [
      "週日24:00前2小時rtn，和星期一前 2 小時rtn的相關係數 0.28577580934532504\n",
      "週日24:00前2小時rtn，和星期一前 4 小時rtn的相關係數 0.283816854083782\n",
      "週日24:00前2小時rtn，和星期一前 8 小時rtn的相關係數 0.3774741809870709\n",
      "週日24:00前2小時rtn，和星期一前 12 小時rtn的相關係數 0.2075330038993066\n",
      "-------------------------------------------------------------------------------------------------------\n",
      "週日23:00前2小時rtn，和星期一前 2 小時rtn的相關係數 0.12281227437943178\n",
      "週日23:00前2小時rtn，和星期一前 4 小時rtn的相關係數 0.10547136270812389\n",
      "週日23:00前2小時rtn，和星期一前 8 小時rtn的相關係數 0.22538371681899053\n",
      "週日23:00前2小時rtn，和星期一前 12 小時rtn的相關係數 0.1389940099047288\n",
      "-------------------------------------------------------------------------------------------------------\n",
      "週日22:00前2小時rtn，和星期一前 2 小時rtn的相關係數 0.28229203370769906\n",
      "週日22:00前2小時rtn，和星期一前 4 小時rtn的相關係數 0.18882988533398407\n",
      "週日22:00前2小時rtn，和星期一前 8 小時rtn的相關係數 0.18230402223346684\n",
      "週日22:00前2小時rtn，和星期一前 12 小時rtn的相關係數 0.011014808283476068\n",
      "-------------------------------------------------------------------------------------------------------\n",
      "週日21:00前2小時rtn，和星期一前 2 小時rtn的相關係數 0.4435132641142523\n",
      "週日21:00前2小時rtn，和星期一前 4 小時rtn的相關係數 0.4350250716900505\n",
      "週日21:00前2小時rtn，和星期一前 8 小時rtn的相關係數 0.20182081208015046\n",
      "週日21:00前2小時rtn，和星期一前 12 小時rtn的相關係數 -0.005808440717508813\n",
      "-------------------------------------------------------------------------------------------------------\n",
      "週日20:00前2小時rtn，和星期一前 2 小時rtn的相關係數 0.08505201122071708\n",
      "週日20:00前2小時rtn，和星期一前 4 小時rtn的相關係數 -0.06448655710880868\n",
      "週日20:00前2小時rtn，和星期一前 8 小時rtn的相關係數 0.07998984132796652\n",
      "週日20:00前2小時rtn，和星期一前 12 小時rtn的相關係數 -0.04469964626193138\n",
      "-------------------------------------------------------------------------------------------------------\n",
      "週日19:00前2小時rtn，和星期一前 2 小時rtn的相關係數 0.15492235239472782\n",
      "週日19:00前2小時rtn，和星期一前 4 小時rtn的相關係數 -0.09749467988111327\n",
      "週日19:00前2小時rtn，和星期一前 8 小時rtn的相關係數 0.15732948892183823\n",
      "週日19:00前2小時rtn，和星期一前 12 小時rtn的相關係數 -0.06694501994370473\n",
      "-------------------------------------------------------------------------------------------------------\n",
      "週日18:00前2小時rtn，和星期一前 2 小時rtn的相關係數 0.08076951504725526\n",
      "週日18:00前2小時rtn，和星期一前 4 小時rtn的相關係數 -0.14206657975051099\n",
      "週日18:00前2小時rtn，和星期一前 8 小時rtn的相關係數 0.0887461469181188\n",
      "週日18:00前2小時rtn，和星期一前 12 小時rtn的相關係數 -0.1306347897461505\n",
      "-------------------------------------------------------------------------------------------------------\n",
      "週日17:00前2小時rtn，和星期一前 2 小時rtn的相關係數 -0.20714038672116802\n",
      "週日17:00前2小時rtn，和星期一前 4 小時rtn的相關係數 -0.36405964469392343\n",
      "週日17:00前2小時rtn，和星期一前 8 小時rtn的相關係數 0.10190324893245059\n",
      "週日17:00前2小時rtn，和星期一前 12 小時rtn的相關係數 -0.05614172533362376\n",
      "-------------------------------------------------------------------------------------------------------\n",
      "週日16:00前2小時rtn，和星期一前 2 小時rtn的相關係數 -0.08355604404110539\n",
      "週日16:00前2小時rtn，和星期一前 4 小時rtn的相關係數 -0.1998157861743843\n",
      "週日16:00前2小時rtn，和星期一前 8 小時rtn的相關係數 0.11496793978972655\n",
      "週日16:00前2小時rtn，和星期一前 12 小時rtn的相關係數 0.047486538512852866\n",
      "-------------------------------------------------------------------------------------------------------\n",
      "週日15:00前2小時rtn，和星期一前 2 小時rtn的相關係數 0.004340167029625637\n",
      "週日15:00前2小時rtn，和星期一前 4 小時rtn的相關係數 -0.09071425957818705\n",
      "週日15:00前2小時rtn，和星期一前 8 小時rtn的相關係數 -0.029683736883911453\n",
      "週日15:00前2小時rtn，和星期一前 12 小時rtn的相關係數 -0.1107768777312989\n",
      "-------------------------------------------------------------------------------------------------------\n",
      "週日14:00前2小時rtn，和星期一前 2 小時rtn的相關係數 -0.13708001803610914\n",
      "週日14:00前2小時rtn，和星期一前 4 小時rtn的相關係數 -0.0976631394376043\n",
      "週日14:00前2小時rtn，和星期一前 8 小時rtn的相關係數 -0.11355505364025274\n",
      "週日14:00前2小時rtn，和星期一前 12 小時rtn的相關係數 -0.12713189675305128\n",
      "-------------------------------------------------------------------------------------------------------\n",
      "週日13:00前2小時rtn，和星期一前 2 小時rtn的相關係數 -0.1788886373564647\n",
      "週日13:00前2小時rtn，和星期一前 4 小時rtn的相關係數 -0.1676113533971506\n",
      "週日13:00前2小時rtn，和星期一前 8 小時rtn的相關係數 -0.10170062527600877\n",
      "週日13:00前2小時rtn，和星期一前 12 小時rtn的相關係數 0.03170223105146951\n",
      "-------------------------------------------------------------------------------------------------------\n"
     ]
    }
   ],
   "source": [
    "data = _data[(_data.index.month >= 1) & (_data.index.year >= 2023)]\n",
    "\n",
    "for i in range(12):\n",
    "    corr_gen_from_previous(data, i)"
   ]
  }
 ],
 "metadata": {
  "kernelspec": {
   "display_name": "Python 3",
   "language": "python",
   "name": "python3"
  },
  "language_info": {
   "codemirror_mode": {
    "name": "ipython",
    "version": 3
   },
   "file_extension": ".py",
   "mimetype": "text/x-python",
   "name": "python",
   "nbconvert_exporter": "python",
   "pygments_lexer": "ipython3",
   "version": "3.10.13"
  }
 },
 "nbformat": 4,
 "nbformat_minor": 2
}
